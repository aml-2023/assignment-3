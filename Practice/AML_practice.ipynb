{
  "cells": [
    {
      "cell_type": "markdown",
      "metadata": {
        "id": "view-in-github",
        "colab_type": "text"
      },
      "source": [
        "<a href=\"https://colab.research.google.com/github/aml-2023/assignment-3/blob/practice/Practice/AML_practice.ipynb\" target=\"_parent\"><img src=\"https://colab.research.google.com/assets/colab-badge.svg\" alt=\"Open In Colab\"/></a>"
      ]
    },
    {
      "cell_type": "markdown",
      "metadata": {
        "id": "_U0EkDIvBXrO"
      },
      "source": [
        "## Table of contents:\n",
        "* Initial Setup\n",
        "* Data Loading and Preprocessing\n",
        "    * Data Variables\n",
        "* Model Instantiation\n",
        "* Optimizer and Scheduler\n",
        "* Train and Evaluation Loop\n",
        "    * Save the model and plot the losses (**1 Point**)\n",
        "* Test Loop  \n",
        "* Human Pose Visualization (**2 Points**)\n",
        "* Report and Parameter Fine-Tuning Analysis  (**4 Points**)\n",
        "* Calculating MPJPE for a Specific Frame  (**2 Points**)\n",
        "* Iterative Mechanism (**3 Points**)\n",
        "* YOUR custom model (**3 Points**)\n",
        "    * Performance BONUS (**Up to 2 Points**)\n",
        "\n"
      ]
    },
    {
      "cell_type": "markdown",
      "metadata": {
        "id": "0s2XUo8DBXrR"
      },
      "source": [
        "## Initial Setup\n",
        "Run the following two cellls to sync with Google Drive only if you run from Google Colab.\n",
        "\n",
        "*Note: we recommend using Google Colab for this specific homework, since the training phase will require a GPU*"
      ]
    },
    {
      "cell_type": "code",
      "execution_count": 1,
      "metadata": {
        "id": "c-ZWnMV4BXrR",
        "colab": {
          "base_uri": "https://localhost:8080/"
        },
        "outputId": "036a0062-972c-42bb-83f4-7fda9632828f"
      },
      "outputs": [
        {
          "output_type": "stream",
          "name": "stdout",
          "text": [
            "Mounted at /content/drive\n"
          ]
        }
      ],
      "source": [
        "from google.colab import drive\n",
        "drive.mount('/content/drive', force_remount=True)"
      ]
    },
    {
      "cell_type": "markdown",
      "source": [
        "# First Time Setup\n",
        "If we are setting up the notebook for the first time, we need to\n",
        "1. Move to root of your drive.\n",
        "1. Create folder structure to hold the practice code and data, and move to the folder.\n",
        "1. Download the `homework.zip` file.\n",
        "1. Unpack the zip file and move everything from the practice folder.\n"
      ],
      "metadata": {
        "id": "cN4FrpgNsfGS"
      }
    },
    {
      "cell_type": "code",
      "source": [
        "# 1\n",
        "%cd /content/drive/MyDrive\n",
        "\n",
        "# 2\n",
        "!mkdir -p aml-2023/homework-1/Practice/\n",
        "%cd aml-2023/homework-1/Practice/\n",
        "\n",
        "# 3\n",
        "!wget -O homework-1.zip https://aml-2023.s3.eu-north-1.amazonaws.com/homework-1.zip\n",
        "!unzip homework-1.zip\n",
        "\n",
        "# 4\n",
        "!cp -r Homework_24/Practice/* .\n",
        "!rm -rf Homework_24\n",
        "!rm AML_practice.ipynb"
      ],
      "metadata": {
        "id": "Sz5-A8p2dBGR",
        "outputId": "898abd17-b9f2-4657-c16d-d4d66f625e64",
        "colab": {
          "base_uri": "https://localhost:8080/"
        }
      },
      "execution_count": 7,
      "outputs": [
        {
          "output_type": "stream",
          "name": "stdout",
          "text": [
            "/content/drive/MyDrive\n",
            "/content/drive/MyDrive/aml-2023/homework-1/Practice\n",
            "--2023-11-07 11:05:34--  https://aml-2023.s3.eu-north-1.amazonaws.com/homework-1.zip\n",
            "Resolving aml-2023.s3.eu-north-1.amazonaws.com (aml-2023.s3.eu-north-1.amazonaws.com)... 16.12.9.22, 52.95.170.72\n",
            "Connecting to aml-2023.s3.eu-north-1.amazonaws.com (aml-2023.s3.eu-north-1.amazonaws.com)|16.12.9.22|:443... connected.\n",
            "HTTP request sent, awaiting response... 200 OK\n",
            "Length: 140548792 (134M) [application/zip]\n",
            "Saving to: ‘homework-1.zip’\n",
            "\n",
            "homework-1.zip      100%[===================>] 134.04M  29.1MB/s    in 5.5s    \n",
            "\n",
            "2023-11-07 11:05:40 (24.4 MB/s) - ‘homework-1.zip’ saved [140548792/140548792]\n",
            "\n",
            "Archive:  homework-1.zip\n",
            "   creating: Homework_24/\n",
            "   creating: Homework_24/Practice/\n",
            "   creating: Homework_24/Practice/utils/\n",
            "  inflating: Homework_24/Practice/utils/h36_3d_viz_ale.py  \n",
            "  inflating: Homework_24/Practice/utils/h36_3d_viz.py  \n",
            "  inflating: Homework_24/Practice/utils/loss_funcs.py  \n",
            "  inflating: Homework_24/Practice/utils/h36motion.py  \n",
            "  inflating: Homework_24/Practice/utils/parser.py  \n",
            "  inflating: Homework_24/Practice/utils/forward_kinematics.py  \n",
            "  inflating: Homework_24/Practice/utils/data_utils.py  \n",
            "  inflating: Homework_24/Practice/utils/ang2joint.py  \n",
            "  inflating: Homework_24/Practice/utils/skeleton_connections.py  \n",
            "  inflating: Homework_24/Practice/utils/h36motion3d.py  \n",
            "  inflating: Homework_24/Practice/AML_practice.ipynb  \n",
            "   creating: Homework_24/Practice/models/\n",
            "   creating: Homework_24/Practice/models/sttr/\n",
            "  inflating: Homework_24/Practice/models/sttr/__init__.py  \n",
            "  inflating: Homework_24/Practice/models/sttr/sttformer.py  \n",
            "  inflating: Homework_24/Practice/models/sttr/sta_block.py  \n",
            "  inflating: Homework_24/Practice/models/sttr/pos_embed.py  \n",
            "   creating: Homework_24/Practice/checkpoints/\n",
            "   creating: Homework_24/Practice/data/\n",
            "   creating: Homework_24/Practice/data/h3.6m/\n",
            "   creating: Homework_24/Practice/data/h3.6m/h3.6m/\n",
            "   creating: Homework_24/Practice/data/h3.6m/h3.6m/dataset/\n",
            "   creating: Homework_24/Practice/data/h3.6m/h3.6m/dataset/S7/\n",
            "  inflating: Homework_24/Practice/data/h3.6m/h3.6m/dataset/S7/purchases_2.txt  \n",
            "  inflating: Homework_24/Practice/data/h3.6m/h3.6m/dataset/S7/walkingtogether_1.txt  \n",
            "  inflating: Homework_24/Practice/data/h3.6m/h3.6m/dataset/S7/takingphoto_1.txt  \n",
            "  inflating: Homework_24/Practice/data/h3.6m/h3.6m/dataset/S7/posing_1.txt  \n",
            "  inflating: Homework_24/Practice/data/h3.6m/h3.6m/dataset/S7/greeting_2.txt  \n",
            "  inflating: Homework_24/Practice/data/h3.6m/h3.6m/dataset/S7/posing_2.txt  \n",
            "  inflating: Homework_24/Practice/data/h3.6m/h3.6m/dataset/S7/directions_2.txt  \n",
            "  inflating: Homework_24/Practice/data/h3.6m/h3.6m/dataset/S7/walkingdog_1.txt  \n",
            "  inflating: Homework_24/Practice/data/h3.6m/h3.6m/dataset/S7/eating_2.txt  \n",
            "  inflating: Homework_24/Practice/data/h3.6m/h3.6m/dataset/S7/walkingtogether_2.txt  \n",
            "  inflating: Homework_24/Practice/data/h3.6m/h3.6m/dataset/S7/phoning_2.txt  \n",
            "  inflating: Homework_24/Practice/data/h3.6m/h3.6m/dataset/S7/sitting_1.txt  \n",
            "  inflating: Homework_24/Practice/data/h3.6m/h3.6m/dataset/S7/directions_1.txt  \n",
            "  inflating: Homework_24/Practice/data/h3.6m/h3.6m/dataset/S7/takingphoto_2.txt  \n",
            "  inflating: Homework_24/Practice/data/h3.6m/h3.6m/dataset/S7/walking_2.txt  \n",
            "  inflating: Homework_24/Practice/data/h3.6m/h3.6m/dataset/S7/waiting_1.txt  \n",
            "  inflating: Homework_24/Practice/data/h3.6m/h3.6m/dataset/S7/smoking_2.txt  \n",
            "  inflating: Homework_24/Practice/data/h3.6m/h3.6m/dataset/S7/greeting_1.txt  \n",
            "  inflating: Homework_24/Practice/data/h3.6m/h3.6m/dataset/S7/walkingdog_2.txt  \n",
            "  inflating: Homework_24/Practice/data/h3.6m/h3.6m/dataset/S7/walking_1.txt  \n",
            "  inflating: Homework_24/Practice/data/h3.6m/h3.6m/dataset/S7/sittingdown_1.txt  \n",
            "  inflating: Homework_24/Practice/data/h3.6m/h3.6m/dataset/S7/waiting_2.txt  \n",
            "  inflating: Homework_24/Practice/data/h3.6m/h3.6m/dataset/S7/eating_1.txt  \n",
            "  inflating: Homework_24/Practice/data/h3.6m/h3.6m/dataset/S7/sitting_2.txt  \n",
            "  inflating: Homework_24/Practice/data/h3.6m/h3.6m/dataset/S7/discussion_1.txt  \n",
            "  inflating: Homework_24/Practice/data/h3.6m/h3.6m/dataset/S7/phoning_1.txt  \n",
            "  inflating: Homework_24/Practice/data/h3.6m/h3.6m/dataset/S7/purchases_1.txt  \n",
            "  inflating: Homework_24/Practice/data/h3.6m/h3.6m/dataset/S7/discussion_2.txt  \n",
            "  inflating: Homework_24/Practice/data/h3.6m/h3.6m/dataset/S7/sittingdown_2.txt  \n",
            "  inflating: Homework_24/Practice/data/h3.6m/h3.6m/dataset/S7/smoking_1.txt  \n",
            "   creating: Homework_24/Practice/data/h3.6m/h3.6m/dataset/S5/\n",
            "  inflating: Homework_24/Practice/data/h3.6m/h3.6m/dataset/S5/walkingdog_1.txt  \n",
            "  inflating: Homework_24/Practice/data/h3.6m/h3.6m/dataset/S5/greeting_1.txt  \n",
            "  inflating: Homework_24/Practice/data/h3.6m/h3.6m/dataset/S5/posing_1.txt  \n",
            "  inflating: Homework_24/Practice/data/h3.6m/h3.6m/dataset/S5/purchases_1.txt  \n",
            "  inflating: Homework_24/Practice/data/h3.6m/h3.6m/dataset/S5/takingphoto_1.txt  \n",
            "  inflating: Homework_24/Practice/data/h3.6m/h3.6m/dataset/S5/smoking_1.txt  \n",
            "  inflating: Homework_24/Practice/data/h3.6m/h3.6m/dataset/S5/eating_2.txt  \n",
            "  inflating: Homework_24/Practice/data/h3.6m/h3.6m/dataset/S5/phoning_2.txt  \n",
            "  inflating: Homework_24/Practice/data/h3.6m/h3.6m/dataset/S5/eating_1.txt  \n",
            "  inflating: Homework_24/Practice/data/h3.6m/h3.6m/dataset/S5/walking_2.txt  \n",
            "  inflating: Homework_24/Practice/data/h3.6m/h3.6m/dataset/S5/takingphoto_2.txt  \n",
            "  inflating: Homework_24/Practice/data/h3.6m/h3.6m/dataset/S5/walkingdog_2.txt  \n",
            "  inflating: Homework_24/Practice/data/h3.6m/h3.6m/dataset/S5/phoning_1.txt  \n",
            "  inflating: Homework_24/Practice/data/h3.6m/h3.6m/dataset/S5/sittingdown_1.txt  \n",
            "  inflating: Homework_24/Practice/data/h3.6m/h3.6m/dataset/S5/walkingtogether_2.txt  \n",
            "  inflating: Homework_24/Practice/data/h3.6m/h3.6m/dataset/S5/smoking_2.txt  \n",
            "  inflating: Homework_24/Practice/data/h3.6m/h3.6m/dataset/S5/walkingtogether_1.txt  \n",
            "  inflating: Homework_24/Practice/data/h3.6m/h3.6m/dataset/S5/directions_2.txt  \n",
            "  inflating: Homework_24/Practice/data/h3.6m/h3.6m/dataset/S5/purchases_2.txt  \n",
            "  inflating: Homework_24/Practice/data/h3.6m/h3.6m/dataset/S5/posing_2.txt  \n",
            "  inflating: Homework_24/Practice/data/h3.6m/h3.6m/dataset/S5/waiting_1.txt  \n",
            "  inflating: Homework_24/Practice/data/h3.6m/h3.6m/dataset/S5/sitting_2.txt  \n",
            "  inflating: Homework_24/Practice/data/h3.6m/h3.6m/dataset/S5/waiting_2.txt  \n",
            "  inflating: Homework_24/Practice/data/h3.6m/h3.6m/dataset/S5/walking_1.txt  \n",
            "  inflating: Homework_24/Practice/data/h3.6m/h3.6m/dataset/S5/greeting_2.txt  \n",
            "  inflating: Homework_24/Practice/data/h3.6m/h3.6m/dataset/S5/directions_1.txt  \n",
            "  inflating: Homework_24/Practice/data/h3.6m/h3.6m/dataset/S5/sitting_1.txt  \n",
            "  inflating: Homework_24/Practice/data/h3.6m/h3.6m/dataset/S5/sittingdown_2.txt  \n",
            "  inflating: Homework_24/Practice/data/h3.6m/h3.6m/dataset/S5/discussion_1.txt  \n",
            "  inflating: Homework_24/Practice/data/h3.6m/h3.6m/dataset/S5/discussion_2.txt  \n",
            "   creating: Homework_24/Practice/data/h3.6m/h3.6m/dataset/S6/\n",
            "  inflating: Homework_24/Practice/data/h3.6m/h3.6m/dataset/S6/greeting_1.txt  \n",
            "  inflating: Homework_24/Practice/data/h3.6m/h3.6m/dataset/S6/smoking_2.txt  \n",
            "  inflating: Homework_24/Practice/data/h3.6m/h3.6m/dataset/S6/eating_2.txt  \n",
            "  inflating: Homework_24/Practice/data/h3.6m/h3.6m/dataset/S6/walkingdog_2.txt  \n",
            "  inflating: Homework_24/Practice/data/h3.6m/h3.6m/dataset/S6/posing_1.txt  \n",
            "  inflating: Homework_24/Practice/data/h3.6m/h3.6m/dataset/S6/takingphoto_1.txt  \n",
            "  inflating: Homework_24/Practice/data/h3.6m/h3.6m/dataset/S6/posing_2.txt  \n",
            "  inflating: Homework_24/Practice/data/h3.6m/h3.6m/dataset/S6/purchases_1.txt  \n",
            "  inflating: Homework_24/Practice/data/h3.6m/h3.6m/dataset/S6/eating_1.txt  \n",
            "  inflating: Homework_24/Practice/data/h3.6m/h3.6m/dataset/S6/phoning_2.txt  \n",
            "  inflating: Homework_24/Practice/data/h3.6m/h3.6m/dataset/S6/sitting_1.txt  \n",
            "  inflating: Homework_24/Practice/data/h3.6m/h3.6m/dataset/S6/discussion_2.txt  \n",
            "  inflating: Homework_24/Practice/data/h3.6m/h3.6m/dataset/S6/walkingdog_1.txt  \n",
            "  inflating: Homework_24/Practice/data/h3.6m/h3.6m/dataset/S6/sittingdown_1.txt  \n",
            "  inflating: Homework_24/Practice/data/h3.6m/h3.6m/dataset/S6/takingphoto_2.txt  \n",
            "  inflating: Homework_24/Practice/data/h3.6m/h3.6m/dataset/S6/walking_1.txt  \n",
            "  inflating: Homework_24/Practice/data/h3.6m/h3.6m/dataset/S6/walking_2.txt  \n",
            "  inflating: Homework_24/Practice/data/h3.6m/h3.6m/dataset/S6/purchases_2.txt  \n",
            "  inflating: Homework_24/Practice/data/h3.6m/h3.6m/dataset/S6/walkingtogether_2.txt  \n",
            "  inflating: Homework_24/Practice/data/h3.6m/h3.6m/dataset/S6/waiting_2.txt  \n",
            "  inflating: Homework_24/Practice/data/h3.6m/h3.6m/dataset/S6/discussion_1.txt  \n",
            "  inflating: Homework_24/Practice/data/h3.6m/h3.6m/dataset/S6/phoning_1.txt  \n",
            "  inflating: Homework_24/Practice/data/h3.6m/h3.6m/dataset/S6/sitting_2.txt  \n",
            "  inflating: Homework_24/Practice/data/h3.6m/h3.6m/dataset/S6/waiting_1.txt  \n",
            "  inflating: Homework_24/Practice/data/h3.6m/h3.6m/dataset/S6/greeting_2.txt  \n",
            "  inflating: Homework_24/Practice/data/h3.6m/h3.6m/dataset/S6/directions_1.txt  \n",
            "  inflating: Homework_24/Practice/data/h3.6m/h3.6m/dataset/S6/sittingdown_2.txt  \n",
            "  inflating: Homework_24/Practice/data/h3.6m/h3.6m/dataset/S6/smoking_1.txt  \n",
            "  inflating: Homework_24/Practice/data/h3.6m/h3.6m/dataset/S6/directions_2.txt  \n",
            "  inflating: Homework_24/Practice/data/h3.6m/h3.6m/dataset/S6/walkingtogether_1.txt  \n",
            "   creating: Homework_24/Practice/data/h3.6m/h3.6m/dataset/S1/\n",
            "  inflating: Homework_24/Practice/data/h3.6m/h3.6m/dataset/S1/purchases_1.txt  \n",
            "  inflating: Homework_24/Practice/data/h3.6m/h3.6m/dataset/S1/walkingtogether_2.txt  \n",
            "  inflating: Homework_24/Practice/data/h3.6m/h3.6m/dataset/S1/sitting_1.txt  \n",
            "  inflating: Homework_24/Practice/data/h3.6m/h3.6m/dataset/S1/takingphoto_2.txt  \n",
            "  inflating: Homework_24/Practice/data/h3.6m/h3.6m/dataset/S1/purchases_2.txt  \n",
            "  inflating: Homework_24/Practice/data/h3.6m/h3.6m/dataset/S1/walking_1.txt  \n",
            "  inflating: Homework_24/Practice/data/h3.6m/h3.6m/dataset/S1/posing_1.txt  \n",
            "  inflating: Homework_24/Practice/data/h3.6m/h3.6m/dataset/S1/waiting_1.txt  \n",
            "  inflating: Homework_24/Practice/data/h3.6m/h3.6m/dataset/S1/walkingdog_2.txt  \n",
            "  inflating: Homework_24/Practice/data/h3.6m/h3.6m/dataset/S1/posing_2.txt  \n",
            "  inflating: Homework_24/Practice/data/h3.6m/h3.6m/dataset/S1/phoning_1.txt  \n",
            "  inflating: Homework_24/Practice/data/h3.6m/h3.6m/dataset/S1/greeting_2.txt  \n",
            "  inflating: Homework_24/Practice/data/h3.6m/h3.6m/dataset/S1/directions_2.txt  \n",
            "  inflating: Homework_24/Practice/data/h3.6m/h3.6m/dataset/S1/waiting_2.txt  \n",
            "  inflating: Homework_24/Practice/data/h3.6m/h3.6m/dataset/S1/walkingdog_1.txt  \n",
            "  inflating: Homework_24/Practice/data/h3.6m/h3.6m/dataset/S1/sittingdown_1.txt  \n",
            "  inflating: Homework_24/Practice/data/h3.6m/h3.6m/dataset/S1/eating_1.txt  \n",
            "  inflating: Homework_24/Practice/data/h3.6m/h3.6m/dataset/S1/eating_2.txt  \n",
            "  inflating: Homework_24/Practice/data/h3.6m/h3.6m/dataset/S1/sittingdown_2.txt  \n",
            "  inflating: Homework_24/Practice/data/h3.6m/h3.6m/dataset/S1/directions_1.txt  \n",
            "  inflating: Homework_24/Practice/data/h3.6m/h3.6m/dataset/S1/greeting_1.txt  \n",
            "  inflating: Homework_24/Practice/data/h3.6m/h3.6m/dataset/S1/walking_2.txt  \n",
            "  inflating: Homework_24/Practice/data/h3.6m/h3.6m/dataset/S1/smoking_1.txt  \n",
            "  inflating: Homework_24/Practice/data/h3.6m/h3.6m/dataset/S1/walkingtogether_1.txt  \n",
            "  inflating: Homework_24/Practice/data/h3.6m/h3.6m/dataset/S1/takingphoto_1.txt  \n",
            "  inflating: Homework_24/Practice/data/h3.6m/h3.6m/dataset/S1/phoning_2.txt  \n",
            "  inflating: Homework_24/Practice/data/h3.6m/h3.6m/dataset/S1/discussion_1.txt  \n",
            "  inflating: Homework_24/Practice/data/h3.6m/h3.6m/dataset/S1/smoking_2.txt  \n",
            "  inflating: Homework_24/Practice/data/h3.6m/h3.6m/dataset/S1/sitting_2.txt  \n",
            "  inflating: Homework_24/Practice/data/h3.6m/h3.6m/dataset/S1/discussion_2.txt  \n",
            "   creating: Homework_24/Practice/data/h3.6m/h3.6m/dataset/S9/\n",
            "  inflating: Homework_24/Practice/data/h3.6m/h3.6m/dataset/S9/posing_1.txt  \n",
            "  inflating: Homework_24/Practice/data/h3.6m/h3.6m/dataset/S9/sittingdown_2.txt  \n",
            "  inflating: Homework_24/Practice/data/h3.6m/h3.6m/dataset/S9/directions_1.txt  \n",
            "  inflating: Homework_24/Practice/data/h3.6m/h3.6m/dataset/S9/waiting_1.txt  \n",
            "  inflating: Homework_24/Practice/data/h3.6m/h3.6m/dataset/S9/walkingtogether_1.txt  \n",
            "  inflating: Homework_24/Practice/data/h3.6m/h3.6m/dataset/S9/walkingdog_2.txt  \n",
            "  inflating: Homework_24/Practice/data/h3.6m/h3.6m/dataset/S9/walking_2.txt  \n",
            "  inflating: Homework_24/Practice/data/h3.6m/h3.6m/dataset/S9/smoking_1.txt  \n",
            "  inflating: Homework_24/Practice/data/h3.6m/h3.6m/dataset/S9/greeting_1.txt  \n",
            "  inflating: Homework_24/Practice/data/h3.6m/h3.6m/dataset/S9/takingphoto_2.txt  \n",
            "  inflating: Homework_24/Practice/data/h3.6m/h3.6m/dataset/S9/posing_2.txt  \n",
            "  inflating: Homework_24/Practice/data/h3.6m/h3.6m/dataset/S9/eating_2.txt  \n",
            "  inflating: Homework_24/Practice/data/h3.6m/h3.6m/dataset/S9/directions_2.txt  \n",
            "  inflating: Homework_24/Practice/data/h3.6m/h3.6m/dataset/S9/sitting_1.txt  \n",
            "  inflating: Homework_24/Practice/data/h3.6m/h3.6m/dataset/S9/takingphoto_1.txt  \n",
            "  inflating: Homework_24/Practice/data/h3.6m/h3.6m/dataset/S9/walkingtogether_2.txt  \n",
            "  inflating: Homework_24/Practice/data/h3.6m/h3.6m/dataset/S9/greeting_2.txt  \n",
            "  inflating: Homework_24/Practice/data/h3.6m/h3.6m/dataset/S9/phoning_2.txt  \n",
            "  inflating: Homework_24/Practice/data/h3.6m/h3.6m/dataset/S9/sitting_2.txt  \n",
            "  inflating: Homework_24/Practice/data/h3.6m/h3.6m/dataset/S9/sittingdown_1.txt  \n",
            "  inflating: Homework_24/Practice/data/h3.6m/h3.6m/dataset/S9/eating_1.txt  \n",
            "  inflating: Homework_24/Practice/data/h3.6m/h3.6m/dataset/S9/walking_1.txt  \n",
            "  inflating: Homework_24/Practice/data/h3.6m/h3.6m/dataset/S9/walkingdog_1.txt  \n",
            "  inflating: Homework_24/Practice/data/h3.6m/h3.6m/dataset/S9/purchases_2.txt  \n",
            "  inflating: Homework_24/Practice/data/h3.6m/h3.6m/dataset/S9/purchases_1.txt  \n",
            "  inflating: Homework_24/Practice/data/h3.6m/h3.6m/dataset/S9/waiting_2.txt  \n",
            "  inflating: Homework_24/Practice/data/h3.6m/h3.6m/dataset/S9/phoning_1.txt  \n",
            "  inflating: Homework_24/Practice/data/h3.6m/h3.6m/dataset/S9/smoking_2.txt  \n",
            "  inflating: Homework_24/Practice/data/h3.6m/h3.6m/dataset/S9/discussion_2.txt  \n",
            "  inflating: Homework_24/Practice/data/h3.6m/h3.6m/dataset/S9/discussion_1.txt  \n",
            "   creating: Homework_24/Practice/data/h3.6m/h3.6m/dataset/S11/\n",
            "  inflating: Homework_24/Practice/data/h3.6m/h3.6m/dataset/S11/walkingdog_1.txt  \n",
            "  inflating: Homework_24/Practice/data/h3.6m/h3.6m/dataset/S11/directions_2.txt  \n",
            "  inflating: Homework_24/Practice/data/h3.6m/h3.6m/dataset/S11/eating_2.txt  \n",
            "  inflating: Homework_24/Practice/data/h3.6m/h3.6m/dataset/S11/sittingdown_1.txt  \n",
            "  inflating: Homework_24/Practice/data/h3.6m/h3.6m/dataset/S11/walkingtogether_1.txt  \n",
            "  inflating: Homework_24/Practice/data/h3.6m/h3.6m/dataset/S11/walkingdog_2.txt  \n",
            "  inflating: Homework_24/Practice/data/h3.6m/h3.6m/dataset/S11/smoking_2.txt  \n",
            "  inflating: Homework_24/Practice/data/h3.6m/h3.6m/dataset/S11/sitting_1.txt  \n",
            "  inflating: Homework_24/Practice/data/h3.6m/h3.6m/dataset/S11/walking_2.txt  \n",
            "  inflating: Homework_24/Practice/data/h3.6m/h3.6m/dataset/S11/greeting_2.txt  \n",
            "  inflating: Homework_24/Practice/data/h3.6m/h3.6m/dataset/S11/posing_2.txt  \n",
            "  inflating: Homework_24/Practice/data/h3.6m/h3.6m/dataset/S11/purchases_2.txt  \n",
            "  inflating: Homework_24/Practice/data/h3.6m/h3.6m/dataset/S11/walkingtogether_2.txt  \n",
            "  inflating: Homework_24/Practice/data/h3.6m/h3.6m/dataset/S11/takingphoto_1.txt  \n",
            "  inflating: Homework_24/Practice/data/h3.6m/h3.6m/dataset/S11/walking_1.txt  \n",
            "  inflating: Homework_24/Practice/data/h3.6m/h3.6m/dataset/S11/posing_1.txt  \n",
            "  inflating: Homework_24/Practice/data/h3.6m/h3.6m/dataset/S11/eating_1.txt  \n",
            "  inflating: Homework_24/Practice/data/h3.6m/h3.6m/dataset/S11/discussion_1.txt  \n",
            "  inflating: Homework_24/Practice/data/h3.6m/h3.6m/dataset/S11/waiting_1.txt  \n",
            "  inflating: Homework_24/Practice/data/h3.6m/h3.6m/dataset/S11/greeting_1.txt  \n",
            "  inflating: Homework_24/Practice/data/h3.6m/h3.6m/dataset/S11/directions_1.txt  \n",
            "  inflating: Homework_24/Practice/data/h3.6m/h3.6m/dataset/S11/takingphoto_2.txt  \n",
            "  inflating: Homework_24/Practice/data/h3.6m/h3.6m/dataset/S11/phoning_2.txt  \n",
            "  inflating: Homework_24/Practice/data/h3.6m/h3.6m/dataset/S11/discussion_2.txt  \n",
            "  inflating: Homework_24/Practice/data/h3.6m/h3.6m/dataset/S11/sitting_2.txt  \n",
            "  inflating: Homework_24/Practice/data/h3.6m/h3.6m/dataset/S11/purchases_1.txt  \n",
            "  inflating: Homework_24/Practice/data/h3.6m/h3.6m/dataset/S11/waiting_2.txt  \n",
            "  inflating: Homework_24/Practice/data/h3.6m/h3.6m/dataset/S11/sittingdown_2.txt  \n",
            "  inflating: Homework_24/Practice/data/h3.6m/h3.6m/dataset/S11/smoking_1.txt  \n",
            "  inflating: Homework_24/Practice/data/h3.6m/h3.6m/dataset/S11/phoning_1.txt  \n",
            "   creating: Homework_24/Practice/data/h3.6m/h3.6m/dataset/S8/\n",
            "  inflating: Homework_24/Practice/data/h3.6m/h3.6m/dataset/S8/greeting_2.txt  \n",
            "  inflating: Homework_24/Practice/data/h3.6m/h3.6m/dataset/S8/purchases_2.txt  \n",
            "  inflating: Homework_24/Practice/data/h3.6m/h3.6m/dataset/S8/greeting_1.txt  \n",
            "  inflating: Homework_24/Practice/data/h3.6m/h3.6m/dataset/S8/takingphoto_2.txt  \n",
            "  inflating: Homework_24/Practice/data/h3.6m/h3.6m/dataset/S8/sittingdown_1.txt  \n",
            "  inflating: Homework_24/Practice/data/h3.6m/h3.6m/dataset/S8/posing_2.txt  \n",
            "  inflating: Homework_24/Practice/data/h3.6m/h3.6m/dataset/S8/walkingdog_1.txt  \n",
            "  inflating: Homework_24/Practice/data/h3.6m/h3.6m/dataset/S8/waiting_2.txt  \n",
            "  inflating: Homework_24/Practice/data/h3.6m/h3.6m/dataset/S8/waiting_1.txt  \n",
            "  inflating: Homework_24/Practice/data/h3.6m/h3.6m/dataset/S8/sitting_1.txt  \n",
            "  inflating: Homework_24/Practice/data/h3.6m/h3.6m/dataset/S8/sitting_2.txt  \n",
            "  inflating: Homework_24/Practice/data/h3.6m/h3.6m/dataset/S8/discussion_1.txt  \n",
            "  inflating: Homework_24/Practice/data/h3.6m/h3.6m/dataset/S8/walkingdog_2.txt  \n",
            "  inflating: Homework_24/Practice/data/h3.6m/h3.6m/dataset/S8/takingphoto_1.txt  \n",
            "  inflating: Homework_24/Practice/data/h3.6m/h3.6m/dataset/S8/posing_1.txt  \n",
            "  inflating: Homework_24/Practice/data/h3.6m/h3.6m/dataset/S8/purchases_1.txt  \n",
            "  inflating: Homework_24/Practice/data/h3.6m/h3.6m/dataset/S8/discussion_2.txt  \n",
            "  inflating: Homework_24/Practice/data/h3.6m/h3.6m/dataset/S8/smoking_1.txt  \n",
            "  inflating: Homework_24/Practice/data/h3.6m/h3.6m/dataset/S8/sittingdown_2.txt  \n",
            "  inflating: Homework_24/Practice/data/h3.6m/h3.6m/dataset/S8/eating_2.txt  \n",
            "  inflating: Homework_24/Practice/data/h3.6m/h3.6m/dataset/S8/directions_1.txt  \n",
            "  inflating: Homework_24/Practice/data/h3.6m/h3.6m/dataset/S8/walking_2.txt  \n",
            "  inflating: Homework_24/Practice/data/h3.6m/h3.6m/dataset/S8/phoning_2.txt  \n",
            "  inflating: Homework_24/Practice/data/h3.6m/h3.6m/dataset/S8/smoking_2.txt  \n",
            "  inflating: Homework_24/Practice/data/h3.6m/h3.6m/dataset/S8/phoning_1.txt  \n",
            "  inflating: Homework_24/Practice/data/h3.6m/h3.6m/dataset/S8/walkingtogether_1.txt  \n",
            "  inflating: Homework_24/Practice/data/h3.6m/h3.6m/dataset/S8/eating_1.txt  \n",
            "  inflating: Homework_24/Practice/data/h3.6m/h3.6m/dataset/S8/directions_2.txt  \n",
            "  inflating: Homework_24/Practice/data/h3.6m/h3.6m/dataset/S8/walkingtogether_2.txt  \n",
            "  inflating: Homework_24/Practice/data/h3.6m/h3.6m/dataset/S8/walking_1.txt  \n",
            "   creating: Homework_24/Theory/\n",
            "  inflating: Homework_24/Theory/AML_theory.ipynb  \n"
          ]
        }
      ]
    },
    {
      "cell_type": "markdown",
      "source": [
        "# Successive Times\n",
        "If you have done the setup already, we just need to move into the dedicated practice folder."
      ],
      "metadata": {
        "id": "m-xSUqiIcyM4"
      }
    },
    {
      "cell_type": "code",
      "execution_count": 2,
      "metadata": {
        "id": "MqjWk6s-BXrS",
        "colab": {
          "base_uri": "https://localhost:8080/"
        },
        "outputId": "12b32aec-c361-44a3-fe6b-e94ff3cf3840"
      },
      "outputs": [
        {
          "output_type": "stream",
          "name": "stdout",
          "text": [
            "/content/drive/MyDrive/aml-2023/homework-1/Practice\n"
          ]
        }
      ],
      "source": [
        "%cd /content/drive/MyDrive/aml-2023/homework-1/Practice/"
      ]
    },
    {
      "cell_type": "markdown",
      "metadata": {
        "id": "nfZFycIrBXrT"
      },
      "source": [
        "Welcome to this guide on training, testing, and fine-tuning a deep learning model. Deep learning is at the forefront of artificial intelligence, with applications spanning image recognition, natural language processing, and more.\n",
        "\n",
        "Throughout this assignment, you'll:\n",
        "\n",
        "1. **Prepare Data:** Preprocess and load the data.\n",
        "\n",
        "2. **Use Neural Networks:** Instantiate a neural network architecture.\n",
        "\n",
        "3. **Train Models:** Utilize optimization, loss functions, and backpropagation.\n",
        "\n",
        "4. **Evaluate Performance:** Assess model performance, prevent overfitting, and underfitting.\n",
        "\n",
        "5. **Fine-Tune Models:** Explore hyperparameter tuning."
      ]
    },
    {
      "cell_type": "code",
      "execution_count": 8,
      "metadata": {
        "id": "7air6QP1tXsa",
        "ExecuteTime": {
          "end_time": "2023-10-28T16:07:16.114838200Z",
          "start_time": "2023-10-28T16:06:47.044261200Z"
        }
      },
      "outputs": [],
      "source": [
        "from utils import h36motion3d as datasets\n",
        "from torch.utils.data import DataLoader\n",
        "import matplotlib.pyplot as plt\n",
        "import torch.optim as optim\n",
        "import torch.autograd\n",
        "import torch\n",
        "import numpy as np\n",
        "from utils.loss_funcs import *\n",
        "from utils.data_utils import define_actions\n",
        "from utils.h36_3d_viz import visualize\n",
        "import time\n",
        "\n",
        "import torch.nn.functional as F"
      ]
    },
    {
      "cell_type": "code",
      "execution_count": null,
      "metadata": {
        "id": "m5-P9Yj-tfBC",
        "ExecuteTime": {
          "end_time": "2023-10-28T16:07:16.738542800Z",
          "start_time": "2023-10-28T16:07:16.114838200Z"
        }
      },
      "outputs": [],
      "source": [
        "# Use GPU if available, otherwise stick with cpu\n",
        "device = torch.device('cuda' if torch.cuda.is_available() else 'cpu')\n",
        "print('Using device:', device,  '- Type:', torch.cuda.get_device_name(0))"
      ]
    },
    {
      "cell_type": "markdown",
      "metadata": {
        "id": "AsK9hMdiBXrU"
      },
      "source": [
        "## Data Loading and Preprocessing"
      ]
    },
    {
      "cell_type": "markdown",
      "metadata": {
        "id": "e-EC3XAqBXrV"
      },
      "source": [
        "For this homework, you will use [Human3.6M](https://vision.imar.ro/human3.6m/pami-h36m.pdf), which is a large-scale dataset of 3.6 million accurate 3D human poses acquired by recording the performance of five female and six male subjects under four different viewpoints. The dataset includes:\n",
        "- Synchronized image.\n",
        "- Human motion capture.\n",
        "- Time of flight (depth) data.\n",
        "- Accurate 3D body scans of all the subject actors involved.\n",
        "\n",
        "The dataset aims to provide diverse motions and poses encountered in typical human activities, with additional data to train realistic human sensing systems.\n",
        "\n",
        "![picture](https://drive.google.com/uc?export=view&id=1nyD1_F3r1ctexKFGDmhy2Q9SX_2Z_bpS)\n",
        "\n",
        "For this assignment, we will leverage the rich **motion data** (See in the figure above) provided by H3.6M to perform a task known as *motion prediction*. Motion prediction involves using historical motion data to forecast future movements. This task is fundamental in human-robot interaction, animation, and sports analytics applications."
      ]
    },
    {
      "cell_type": "markdown",
      "metadata": {
        "id": "JDVBcpLABXrV"
      },
      "source": [
        "### Data Variables\n",
        "\n",
        "Each created sequence has the shape (35, 17, 3), where:\n",
        "- Number of observed sequences and number of sequences to predict: $N_{obs}+N_{pred} = 10 + 25 = 35$;\n",
        "- Number of body joints to consider: $J=22$;\n",
        "- Spatial coordinates: $(x,y,z) = 3$.\n",
        "\n",
        "\n",
        "The original data provides high-resolution progressive scan videos at 50 Hz. However, the dataset has been downsampled to 25 Hz for research purposes. This means that 25 frames of motion data are provided per second.\n",
        "\n",
        "*Note: the figure above shows 18 joints, however the dataset contains 32. For this specific case we will consider 22 joints, ignoring some of the finer ones (e.g. foot tip, hand tip, etc)*\n"
      ]
    },
    {
      "cell_type": "code",
      "execution_count": null,
      "metadata": {
        "id": "ZgNCWoUEBXrV",
        "ExecuteTime": {
          "end_time": "2023-10-28T16:07:16.854463700Z",
          "start_time": "2023-10-28T16:07:16.738542800Z"
        }
      },
      "outputs": [],
      "source": [
        "# # Arguments to setup the datasets\n",
        "datas = 'h36m' # dataset name\n",
        "path = './data/h3.6m/h3.6m/dataset'\n",
        "input_n=10 # number of frames to train on (default=10)\n",
        "output_n=25 # number of frames to predict on\n",
        "input_dim=3 # dimensions of the input coordinates(default=3)\n",
        "skip_rate=1 # # skip rate of frames\n",
        "joints_to_consider=22\n",
        "\n",
        "\n",
        "#FLAGS FOR THE TRAINING\n",
        "mode='train' #choose either train or test mode\n",
        "\n",
        "batch_size_test=8\n",
        "model_path= './checkpoints/' # path to the model checkpoint file\n",
        "\n",
        "actions_to_consider_test='all' # actions to test on.\n",
        "model_name = datas+'_3d_'+str(output_n)+'frames_ckpt' #the model name to save/load\n",
        "\n",
        "#FLAGS FOR THE VISUALIZATION\n",
        "actions_to_consider_viz='all' # actions to visualize\n",
        "visualize_from='test'\n",
        "n_viz=2"
      ]
    },
    {
      "cell_type": "markdown",
      "metadata": {
        "id": "WHrODi8VBXrW"
      },
      "source": [
        "Load Dataset\n",
        "\n",
        "*Note: It will take you ~ 5 minutes*"
      ]
    },
    {
      "cell_type": "code",
      "execution_count": null,
      "metadata": {
        "id": "0GTflRxwBXrW",
        "ExecuteTime": {
          "end_time": "2023-10-28T16:08:36.579225400Z",
          "start_time": "2023-10-28T16:07:16.785437Z"
        }
      },
      "outputs": [],
      "source": [
        "# Load Data\n",
        "print('Loading Train Dataset...')\n",
        "dataset = datasets.Datasets(path,input_n,output_n,skip_rate, split=0)\n",
        "print('Loading Validation Dataset...')\n",
        "vald_dataset = datasets.Datasets(path,input_n,output_n,skip_rate, split=1)\n",
        "\n",
        "#! Note: Ignore warning:  \"VisibleDeprecationWarning: Creating an ndarray from ragged nested sequences\""
      ]
    },
    {
      "cell_type": "markdown",
      "metadata": {
        "id": "ZBDfLkXfBXrW"
      },
      "source": [
        "Following we create a torch dataloader that create the batches for each epoch."
      ]
    },
    {
      "cell_type": "code",
      "execution_count": null,
      "metadata": {
        "id": "5RWNrUxIBXrW",
        "ExecuteTime": {
          "end_time": "2023-10-28T16:08:37.129639100Z",
          "start_time": "2023-10-28T16:08:36.594853100Z"
        }
      },
      "outputs": [],
      "source": [
        "batch_size=256\n",
        "\n",
        "print('>>> Training dataset length: {:d}'.format(dataset.__len__()))\n",
        "data_loader = DataLoader(dataset, batch_size=batch_size, shuffle=True, num_workers=0, pin_memory=True)#\n",
        "\n",
        "print('>>> Validation dataset length: {:d}'.format(vald_dataset.__len__()))\n",
        "vald_loader = DataLoader(vald_dataset, batch_size=batch_size, shuffle=True, num_workers=0, pin_memory=True)"
      ]
    },
    {
      "cell_type": "markdown",
      "metadata": {
        "id": "ZdFwJ4QuBXrX"
      },
      "source": [
        "## Model instantiation"
      ]
    },
    {
      "cell_type": "markdown",
      "metadata": {
        "id": "cv7XT2pDBXrX"
      },
      "source": [
        "\n",
        "Each sequence comprises an **observed** part to train the Encoder and a part that attempts to predict the **future** sequence, the Decoder.\n",
        "\n",
        "Generally, the standard setup plans to use the first 10 sequences of poses ($N_{obs}=10$) for the observation and the following 25 ($N_{pred} = 25$) for the prediction.\n"
      ]
    },
    {
      "cell_type": "markdown",
      "metadata": {
        "id": "YW7_ED1vBXrY"
      },
      "source": [
        "We create an instance of a custom Spatio-Temporal transformer with the chosen configuration.\n",
        "\n",
        "(*Note: explore the model in ./models/sttr/sttformer.py*)\n",
        "\n",
        "Then we allocate it to the GPU for forward and backward accelerated computation."
      ]
    },
    {
      "cell_type": "code",
      "execution_count": null,
      "metadata": {
        "id": "9bDpLWl6BXrY",
        "ExecuteTime": {
          "end_time": "2023-10-28T16:08:41.938801Z",
          "start_time": "2023-10-28T16:08:41.454997700Z"
        }
      },
      "outputs": [],
      "source": [
        "from models.sttr.sttformer import Model\n",
        "device = torch.device('cuda' if torch.cuda.is_available() else 'cpu')\n",
        "print('Using device: %s'%device)\n",
        "\n",
        "n_heads = 1\n",
        "\n",
        "model = Model(num_joints=joints_to_consider,\n",
        "                 num_frames=input_n, num_frames_out=output_n, num_heads=n_heads,\n",
        "                 num_channels=3, kernel_size=[3,3], use_pes=True).to(device)\n",
        "\n",
        "print('total number of parameters of the network is: '+str(sum(p.numel() for p in model.parameters() if p.requires_grad)))"
      ]
    },
    {
      "cell_type": "markdown",
      "metadata": {
        "id": "xBtix_WjBXrY"
      },
      "source": [
        "## Optimizer and Scheduler"
      ]
    },
    {
      "cell_type": "markdown",
      "metadata": {
        "id": "1XtIPG_IBXrY"
      },
      "source": [
        "As we embark on training deep learning models for motion prediction using the H3.6M dataset, it's essential to recognize several key parameters and components that significantly impact the training phase:\n",
        "\n",
        "- **Learning Rate:** This parameter determines the convergence speed during optimization.\n",
        "\n",
        "- **Batch Size:** It influences model generalization and training efficiency.\n",
        "\n",
        "- **Number of Epochs:** The number of training iterations affects model learning.\n",
        "\n",
        "- **Loss Function:** The choice of loss function directly affects learning and final performance.\n",
        "\n",
        "- **Optimizer:** The optimization algorithm used (e.g., Adam, SGD) impacts gradient descent during training.\n",
        "\n",
        "- **Milestones and Gamma:** These parameters control learning rate schedules, allowing for adaptive adjustments during training.\n",
        "\n",
        "- **Weight Decay:** It regulates the impact of model parameters during optimization.\n",
        "\n",
        "- **Scheduler:** Scheduler strategies (e.g., StepLR, ReduceLROnPlateau) manage learning rate adaptation during training."
      ]
    },
    {
      "cell_type": "code",
      "execution_count": null,
      "metadata": {
        "id": "ILUrD5v4BXrZ",
        "ExecuteTime": {
          "end_time": "2023-10-28T16:08:50.559002800Z",
          "start_time": "2023-10-28T16:08:45.585910200Z"
        }
      },
      "outputs": [],
      "source": [
        "# Arguments to setup the optimizer\n",
        "lr=1e-01 # learning rate\n",
        "use_scheduler=True # use MultiStepLR scheduler\n",
        "milestones=[10,30]   # the epochs after which the learning rate is adjusted by gamma\n",
        "gamma=0.1 #gamma correction to the learning rate, after reaching the milestone epochs\n",
        "weight_decay=1e-05 # weight decay (L2 penalty)\n",
        "optimizer=optim.Adam(model.parameters(),lr=lr,weight_decay=weight_decay)\n",
        "\n",
        "if use_scheduler:\n",
        "    scheduler = optim.lr_scheduler.MultiStepLR(optimizer, milestones=milestones, gamma=gamma)"
      ]
    },
    {
      "cell_type": "code",
      "execution_count": null,
      "metadata": {
        "id": "9lfkuKP1BXra",
        "ExecuteTime": {
          "end_time": "2023-10-28T16:08:50.590250700Z",
          "start_time": "2023-10-28T16:08:50.574622500Z"
        }
      },
      "outputs": [],
      "source": [
        "clip_grad=None # select max norm to clip gradients\n",
        "# Argument for training\n",
        "n_epochs=41\n",
        "log_step = 200"
      ]
    },
    {
      "cell_type": "markdown",
      "metadata": {
        "id": "fTbGwJFtBXra"
      },
      "source": [
        "## Train and Evaluation Loop"
      ]
    },
    {
      "cell_type": "markdown",
      "metadata": {
        "id": "uBT0Z7FLBXrb"
      },
      "source": [
        "The **loss** and **metric** used during training and evaluation respectively, compare the predicted joint positions to ground truth joint positions for all frames, which is typically referred to as the **Average Mean Per\n",
        "Joint Position Error (A-MPJPE)** can be seen as an $L_2$. This loss quantifies the dissimilarity between the predicted and ground truth joint positions by measuring the squared Euclidean distance between corresponding joint positions.\n",
        "\n",
        "\\begin{align*}\n",
        "A-MPJPE &= \\frac{1}{N_{pred}} \\sum_{i=1}^{N_{pred}} \\left(\\frac{1}{J} \\sum_{j=1}^{J} \\left\\| P_{\\text{predicted}_{t,j}} - P_{\\text{gt}_{t,j}} \\right\\|^2\\right)\n",
        "\\end{align*}\n",
        "\n",
        "$$where:$$\n",
        "\n",
        "\\begin{align*}\n",
        "P_{\\text{predicted}} &: \\text{Set of predicted joint positions estimated by the model.} \\\\\n",
        "P_{\\text{gt}} &: \\text{Corresponding set of ground truth joint positions.} \\\\\n",
        "\\end{align*}"
      ]
    },
    {
      "cell_type": "markdown",
      "metadata": {
        "id": "lriDKsUoBXrb"
      },
      "source": [
        "*Note: If you restart the training for any reason, remember to instantiate the model and the optimizer again. This will avoid continuing the training with the initialized weights of the previous one*\n"
      ]
    },
    {
      "cell_type": "markdown",
      "metadata": {
        "id": "3hiF0f6oBXrb"
      },
      "source": [
        "### Save the model and plot the losses (1 Point)\n",
        "\n",
        "**Objective:** In this exercise, you will practice implementing a code snippet to save your deep learning model's checkpoints and visualize the training and validation loss on the same plot every 5 epochs during model training.\n",
        "\n",
        "Your task is to implement the following:\n",
        "\n",
        "- Set up a mechanism to save the model's checkpoints (weights and architecture) during training. These checkpoints should be saved periodically, say, **every 5 epochs**.\n",
        "\n",
        "- Create a plot displaying the training and validation losses on the same graph. The x-axis should represent the number of epochs, and the y-axis should represent the loss values. The training and validation losses should be plotted as separate lines on the same graph.\n",
        "\n",
        "- Ensure that the code saves the model's checkpoints in a specified directory, including the model's architecture and weights, and that the loss plot is displayed.\n",
        "\n",
        "Analyze the loss plot to gain insights into how your model is learning over time and whether there are any signs of overfitting or underfitting.\n",
        "\n",
        "*Note: see the Pytorch Documentation on how to save your model's checkpoints.*\n"
      ]
    },
    {
      "cell_type": "code",
      "execution_count": null,
      "metadata": {
        "id": "oQUGhkJPuoF8"
      },
      "outputs": [],
      "source": [
        "def train(data_loader,vald_loader, path_to_save_model=None):\n",
        "  train_loss = []\n",
        "  val_loss = []\n",
        "  val_loss_best = 1000\n",
        "\n",
        "  dim_used = np.array([6, 7, 8, 9, 10, 11, 12, 13, 14, 15, 16, 17, 21, 22, 23, 24, 25,\n",
        "                    26, 27, 28, 29, 30, 31, 32, 36, 37, 38, 39, 40, 41, 42, 43, 44, 45,\n",
        "                    46, 47, 51, 52, 53, 54, 55, 56, 57, 58, 59, 63, 64, 65, 66, 67, 68,\n",
        "                    75, 76, 77, 78, 79, 80, 81, 82, 83, 87, 88, 89, 90, 91, 92])\n",
        "\n",
        "  for epoch in range(n_epochs-1):\n",
        "      running_loss=0\n",
        "      n=0\n",
        "      model.train()\n",
        "      for cnt,batch in enumerate(data_loader):\n",
        "          batch=batch.float().to(device)\n",
        "          batch_dim=batch.shape[0]\n",
        "          n+=batch_dim\n",
        "\n",
        "          sequences_train=batch[:, 0:input_n, dim_used].view(-1,input_n,len(dim_used)//3,3).permute(0,3,1,2)\n",
        "          sequences_gt = batch[:, input_n:input_n+output_n, dim_used].view(-1,output_n,len(dim_used)//3,3)\n",
        "\n",
        "          optimizer.zero_grad()\n",
        "          sequences_predict = model(sequences_train).view(-1, output_n, joints_to_consider, 3)\n",
        "\n",
        "          loss = mpjpe_error(sequences_predict,sequences_gt)\n",
        "\n",
        "          if cnt % log_step == 0:\n",
        "            print('[Epoch: %d, Iteration: %5d]  training loss: %.3f' %(epoch + 1, cnt + 1, loss.item()))\n",
        "\n",
        "          loss.backward()\n",
        "          if clip_grad is not None:\n",
        "            torch.nn.utils.clip_grad_norm_(model.parameters(),clip_grad)\n",
        "\n",
        "          optimizer.step()\n",
        "          running_loss += loss*batch_dim\n",
        "\n",
        "      train_loss.append(running_loss.detach().cpu()/n)\n",
        "\n",
        "      model.eval()\n",
        "\n",
        "      with torch.no_grad():\n",
        "          running_loss=0\n",
        "          n=0\n",
        "          for cnt,batch in enumerate(vald_loader):\n",
        "              batch=batch.float().to(device)\n",
        "              batch_dim=batch.shape[0]\n",
        "              n+=batch_dim\n",
        "\n",
        "\n",
        "              sequences_train=batch[:, 0:input_n, dim_used].view(-1,input_n,len(dim_used)//3,3).permute(0,3,1,2)\n",
        "              sequences_gt=batch[:, input_n:input_n+output_n, dim_used].view(-1,output_n,len(dim_used)//3,3)\n",
        "\n",
        "              sequences_predict=model(sequences_train).view(-1, output_n, joints_to_consider, 3)\n",
        "              loss = mpjpe_error(sequences_predict,sequences_gt)\n",
        "\n",
        "              if cnt % log_step == 0:\n",
        "                        print('[Epoch: %d, Iteration: %5d]  validation loss: %.3f' %(epoch + 1, cnt + 1, loss.item()))\n",
        "\n",
        "              running_loss += loss*batch_dim\n",
        "\n",
        "          val_loss.append(running_loss.detach().cpu()/n)\n",
        "\n",
        "          if running_loss/n < val_loss_best:\n",
        "            val_loss_best = running_loss/n\n",
        "\n",
        "      if use_scheduler:\n",
        "        scheduler.step()\n",
        "\n",
        "      '''\n",
        "      Insert your code below. Use the argument path_to_save_model to save the model to the path specified.\n",
        "      '''\n",
        "\n",
        "      def plot_loss(train_loss, val_loss):\n",
        "        \"\"\"Plots the training and validation loss curves of the model.\n",
        "\n",
        "        The loss curves will be plotted in the same plot, with a legend annotating the curves.\n",
        "        The epochs axis will start from 0, not 1 like the print statements in the loop.\n",
        "\n",
        "        :arg\n",
        "          train_loss (iterable): the per epoch training loss of the model.\n",
        "          val_loss (iterable): the per epoch validation loss of the model.\n",
        "        \"\"\"\n",
        "        plt.xlabel(\"Epoch\")\n",
        "        plt.ylabel(\"Average Mean Per Joint Position Loss\")\n",
        "        plt.title(\"Train and Validation Loss of Joint Position Model\")\n",
        "        plt.plot(train_loss, label=\"Train\")\n",
        "        plt.plot(val_loss, label=\"Val\")\n",
        "        plt.legend()\n",
        "        plt.show()\n",
        "\n",
        "      # save and plot model every 5 epochs\n",
        "      # epoch + 1 so that we don't print after the first epoch\n",
        "      # also save and plot after the last epoch\n",
        "      if (save_and_plot and (epoch + 1) % 5 == 0) or (epoch == n_epochs - 2):\n",
        "        full_param_path = f\"{path_to_save_model}model_params_epoch_{epoch}.pt\"\n",
        "        full_model_path = f\"{path_to_save_model}model_epoch_{epoch}.pt\"\n",
        "\n",
        "        # saves and loads only the model parameters:\n",
        "        torch.save(model.state_dict(), full_param_path)\n",
        "        print(f\"Model saved at: {full_param_path}\")\n",
        "\n",
        "        # saves and loads the entire model:\n",
        "        # TODO this throws an exception Can't pickle local object 'STA_Block.__init__.<locals>. because pickle cannot save lambda functions, which we have inside the model.\n",
        "        #torch.save(model, full_model_path)\n",
        "\n",
        "        # plot\n",
        "        plot_loss(train_loss, val_loss)"
      ]
    },
    {
      "cell_type": "code",
      "execution_count": null,
      "metadata": {
        "id": "uPWGWLHTBXrd"
      },
      "outputs": [],
      "source": [
        "save_and_plot = True # save the model and plot the loss. Change to True if you want to save the model and plot the loss\n",
        "\n",
        "# launch training\n",
        "train(data_loader,vald_loader, path_to_save_model=model_path)"
      ]
    },
    {
      "cell_type": "markdown",
      "metadata": {
        "id": "RVcwUPM6BXrd"
      },
      "source": [
        "## Test Loop"
      ]
    },
    {
      "cell_type": "markdown",
      "metadata": {
        "id": "lrR1AEWoBXre"
      },
      "source": [
        "After training and validation, the test loop is the final phase that evaluates the model's performance on an entirely independent dataset known as the test dataset. This dataset is distinct from the training and validation data, ensuring unbiased assessment. The test loop provides a reliable estimate of how well the model will perform in real-world scenarios, confirming that any improvements observed during training and validation are not due to overfitting or chance. It's a crucial step before deploying the model in practical applications."
      ]
    },
    {
      "cell_type": "code",
      "execution_count": null,
      "metadata": {
        "id": "AjwwPPMNxjJ2",
        "ExecuteTime": {
          "end_time": "2023-10-28T16:09:03.749489300Z",
          "start_time": "2023-10-28T16:09:03.640114Z"
        }
      },
      "outputs": [],
      "source": [
        "def test(ckpt_path=None):\n",
        "    model.load_state_dict(torch.load(ckpt_path))\n",
        "    print(f'model loaded from {ckpt_path}')\n",
        "    model.eval()\n",
        "    accum_loss=0\n",
        "    n_batches=0 # number of batches for all the sequences\n",
        "    actions=define_actions(actions_to_consider_test)\n",
        "    dim_used = np.array([6, 7, 8, 9, 10, 11, 12, 13, 14, 15, 16, 17, 21, 22, 23, 24, 25,\n",
        "                      26, 27, 28, 29, 30, 31, 32, 36, 37, 38, 39, 40, 41, 42, 43, 44, 45,\n",
        "                      46, 47, 51, 52, 53, 54, 55, 56, 57, 58, 59, 63, 64, 65, 66, 67, 68,\n",
        "                      75, 76, 77, 78, 79, 80, 81, 82, 83, 87, 88, 89, 90, 91, 92])\n",
        "    # joints at same loc\n",
        "    joint_to_ignore = np.array([16, 20, 23, 24, 28, 31])\n",
        "    index_to_ignore = np.concatenate((joint_to_ignore * 3, joint_to_ignore * 3 + 1, joint_to_ignore * 3 + 2))\n",
        "    joint_equal = np.array([13, 19, 22, 13, 27, 30])\n",
        "    index_to_equal = np.concatenate((joint_equal * 3, joint_equal * 3 + 1, joint_equal * 3 + 2))\n",
        "    totalll=0\n",
        "    counter=0\n",
        "    for action in actions:\n",
        "      running_loss=0\n",
        "      n=0\n",
        "      dataset_test = datasets.Datasets(path,input_n,output_n,skip_rate, split=2,actions=[action])\n",
        "      #print('>>> test action for sequences: {:d}'.format(dataset_test.__len__()))\n",
        "\n",
        "      test_loader = DataLoader(dataset_test, batch_size=batch_size_test, shuffle=False, num_workers=0, pin_memory=True)\n",
        "      for cnt,batch in enumerate(test_loader):\n",
        "        with torch.no_grad():\n",
        "\n",
        "          batch=batch.to(device)\n",
        "          batch_dim=batch.shape[0]\n",
        "          n+=batch_dim\n",
        "\n",
        "\n",
        "          all_joints_seq=batch.clone()[:, input_n:input_n+output_n,:]\n",
        "\n",
        "          sequences_train=batch[:, 0:input_n, dim_used].view(-1,input_n,len(dim_used)//3,3).permute(0,3,1,2)\n",
        "          sequences_gt=batch[:, input_n:input_n+output_n, :]\n",
        "\n",
        "\n",
        "          running_time = time.time()\n",
        "          sequences_predict=model(sequences_train).view(-1, output_n, joints_to_consider, 3)\n",
        "          #sequences_predict = model(sequences_train)\n",
        "          totalll += time.time()-running_time\n",
        "          counter += 1\n",
        "          sequences_predict=sequences_predict.contiguous().view(-1,output_n,len(dim_used))\n",
        "\n",
        "          all_joints_seq[:,:,dim_used] = sequences_predict\n",
        "\n",
        "          all_joints_seq[:,:,index_to_ignore] = all_joints_seq[:,:,index_to_equal]\n",
        "\n",
        "          loss=mpjpe_error(all_joints_seq.view(-1,output_n,32,3),sequences_gt.view(-1,output_n,32,3))\n",
        "          running_loss+=loss*batch_dim\n",
        "          accum_loss+=loss*batch_dim\n",
        "\n",
        "      #print('loss at test subject for action : '+str(action)+ ' is: '+ str(running_loss/n))\n",
        "      print(str(action),': ', str(np.round((running_loss/n).item(),1)))\n",
        "      n_batches+=n\n",
        "    print('Average: '+str(np.round((accum_loss/n_batches).item(),1)))\n",
        "    print('Prediction time: ', totalll/counter)\n"
      ]
    },
    {
      "cell_type": "markdown",
      "metadata": {
        "id": "e2TrFIWDBXre"
      },
      "source": [
        "*Note: Your results should be better than 95 millimiters on average*"
      ]
    },
    {
      "cell_type": "code",
      "execution_count": null,
      "metadata": {
        "id": "CCt0vtOkvCxy",
        "ExecuteTime": {
          "end_time": "2023-10-28T16:12:41.348645Z",
          "start_time": "2023-10-28T16:12:11.181240900Z"
        }
      },
      "outputs": [],
      "source": [
        "ckpt_path = './checkpoints/model_params_epoch_39.pt' # Change the epoch according to the validation curve\n",
        "test(ckpt_path)"
      ]
    },
    {
      "cell_type": "markdown",
      "metadata": {
        "id": "iELEXXORBXrf"
      },
      "source": [
        "## Human Pose Visualization  (**2 Points**)"
      ]
    },
    {
      "cell_type": "markdown",
      "metadata": {
        "id": "6dShZAp9BXrg"
      },
      "source": [
        "The qualitative results are as important as the quantitative ones. In this section, you will visualize and compare the predicted poses with the ground truth ones.\n",
        "For simplicity, you will visualize only the first predicted pose and the ground truth.\n",
        "\n",
        "Ideally, the same plot should show the predicted pose in red and the ground truth one in green.\n",
        "\n",
        "*Note: you will find which nodes are connected in the file ./models/skeleton_connection.py*"
      ]
    },
    {
      "cell_type": "code",
      "execution_count": null,
      "metadata": {
        "id": "kYxULFpgBXrg",
        "ExecuteTime": {
          "end_time": "2023-10-28T16:28:46.686516700Z",
          "start_time": "2023-10-28T16:28:46.624021200Z"
        }
      },
      "outputs": [],
      "source": [
        "def first_pose(model_state_dict_path: str):\n",
        "    \"\"\"Gets the first predicted and ground truth pose from the test data.\n",
        "\n",
        "    Loads the model from the given path and does the prediction.\n",
        "\n",
        "    :arg\n",
        "    model_state_dict_path (str): the full path to the state dict of the model for which to obtain the first prediction and ground truth pair.\n",
        "    :return\n",
        "    ()\n",
        "    \"\"\"\n",
        "    model.load_state_dict(torch.load(model_state_dict_path))\n",
        "    print(f'model loaded from: {model_state_dict_path}')\n",
        "\n",
        "    model.eval()\n",
        "    accum_loss=0\n",
        "    n_batches=0 # number of batches for all the sequences\n",
        "    actions=define_actions(actions_to_consider_test)\n",
        "    dim_used = np.array([6, 7, 8, 9, 10, 11, 12, 13, 14, 15, 16, 17, 21, 22, 23, 24, 25,\n",
        "                    26, 27, 28, 29, 30, 31, 32, 36, 37, 38, 39, 40, 41, 42, 43, 44, 45,\n",
        "                    46, 47, 51, 52, 53, 54, 55, 56, 57, 58, 59, 63, 64, 65, 66, 67, 68,\n",
        "                    75, 76, 77, 78, 79, 80, 81, 82, 83, 87, 88, 89, 90, 91, 92])\n",
        "\n",
        "    # joints at same loc\n",
        "    joint_to_ignore = np.array([16, 20, 23, 24, 28, 31])\n",
        "    index_to_ignore = np.concatenate((joint_to_ignore * 3, joint_to_ignore * 3 + 1, joint_to_ignore * 3 + 2))\n",
        "    joint_equal = np.array([13, 19, 22, 13, 27, 30])\n",
        "    index_to_equal = np.concatenate((joint_equal * 3, joint_equal * 3 + 1, joint_equal * 3 + 2))\n",
        "    totalll=0\n",
        "    counter=0\n",
        "\n",
        "    for action in actions:\n",
        "        running_loss=0\n",
        "        n=0\n",
        "        dataset_test = datasets.Datasets(path,input_n,output_n,skip_rate, split=2,actions=[action])\n",
        "\n",
        "        test_loader = DataLoader(dataset_test, batch_size=batch_size_test, shuffle=False, num_workers=0, pin_memory=True)\n",
        "        for cnt, batch in enumerate(test_loader):\n",
        "            with torch.no_grad():\n",
        "\n",
        "                batch = batch.to(device)\n",
        "                batch_dim = batch.shape[0]\n",
        "                n += batch_dim\n",
        "\n",
        "                all_joints_seq_predict = batch.clone()[:, input_n:input_n+output_n,:]\n",
        "\n",
        "                sequences_train = batch[:, 0:input_n, dim_used].view(-1,input_n,len(dim_used)//3,3).permute(0,3,1,2)\n",
        "                sequences_gt = batch[:, input_n:input_n+output_n, :]\n",
        "\n",
        "                running_time = time.time()\n",
        "                sequences_predict=model(sequences_train).view(-1, output_n, joints_to_consider, 3)\n",
        "\n",
        "                totalll += time.time()-running_time\n",
        "                counter += 1\n",
        "                sequences_predict=sequences_predict.contiguous().view(-1,output_n,len(dim_used))\n",
        "\n",
        "                all_joints_seq_predict[:,:,dim_used] = sequences_predict\n",
        "                all_joints_seq_predict[:,:,index_to_ignore] = all_joints_seq_predict[:,:,index_to_equal]\n",
        "\n",
        "                # the dimensions are (batch, frame, joint, xyz coord) so we return the first frame of the first batch\n",
        "                return all_joints_seq_predict[0, 0].reshape(32, 3), sequences_gt[0, 0].reshape(32, 3)"
      ]
    },
    {
      "cell_type": "code",
      "source": [
        "pred, truth = first_pose(ckpt_path)"
      ],
      "metadata": {
        "id": "jiv6-kD8Bimg",
        "ExecuteTime": {
          "end_time": "2023-10-28T16:28:49.108942600Z",
          "start_time": "2023-10-28T16:28:47.697086100Z"
        }
      },
      "execution_count": null,
      "outputs": []
    },
    {
      "cell_type": "code",
      "source": [
        "import matplotlib.patches\n",
        "from utils import skeleton_connections\n",
        "\n",
        "def plot_skeleton(joints, fig=None, ax=None, **kwargs):\n",
        "    \"\"\"Plots the provided joints in a 3D space and returns the figure and axes object.\n",
        "\n",
        "    Joints will be represented with circles and connected with straight lines. If a fig and ax object are provided, the joints will be plotted on it.\n",
        "\n",
        "    :arg\n",
        "        joints (torch.Tensor): a torch tensor of shape (j, d) where j are the joints and d are the 3 spatial dimensions.\n",
        "        fig (plt.Figure): a pyplot figure on which to plot the joints.\n",
        "        ax (plt.Axes): pyplot axes on which to plot the joints.\n",
        "\n",
        "    :return\n",
        "        fig, ax: a figure and axis object with the plotted joints.\n",
        "    \"\"\"\n",
        "    if not fig:\n",
        "        fig = plt.figure()\n",
        "\n",
        "    if not ax:\n",
        "        ax = fig.add_subplot(111, projection='3d')\n",
        "\n",
        "    joint_line_colour = kwargs.get(\"joint_line_colour\", \"r\")\n",
        "    joint_colour = kwargs.get(\"joint_colour\", \"orange\")\n",
        "\n",
        "  # tells me which joints to connect, I need to take the indeces and draw lines between in the space\n",
        "    for joint_1, joint_2 in skeleton_connections.connect:\n",
        "        x1, y1, z1 = joints[joint_1].cpu()\n",
        "        x2, y2, z2 = joints[joint_2].cpu()\n",
        "\n",
        "        ax.plot((x1, x2), (y1, y2), (z1, z2), c=joint_line_colour)\n",
        "\n",
        "        ax.scatter(x1, y1, z1, c=joint_colour, marker='o', s=5)\n",
        "        ax.scatter(x2, y2, z2, c=joint_colour, marker='o', s=5)\n",
        "\n",
        "        ax.view_init(elev=60, azim=0, roll=90)\n",
        "        # Get rid of the ticks and tick labels\n",
        "        ax.set_xticks([])\n",
        "        ax.set_yticks([])\n",
        "        ax.set_zticks([])\n",
        "\n",
        "    ax.get_xaxis().set_ticklabels([])\n",
        "    ax.get_yaxis().set_ticklabels([])\n",
        "    ax.set_zticklabels([])\n",
        "    ax.set_aspect('equal')\n",
        "\n",
        "    # Get rid of the panes (actually, make them white)\n",
        "    white = (1.0, 1.0, 1.0, 0.0)\n",
        "    ax.xaxis.set_pane_color(white)\n",
        "    #ax.yaxis.set_pane_color(white)\n",
        "    ax.zaxis.set_pane_color(white)\n",
        "\n",
        "    # Get rid of the lines in 3d\n",
        "    ax.xaxis.line.set_color(white)\n",
        "    ax.yaxis.line.set_color(white)\n",
        "    ax.zaxis.line.set_color(white)\n",
        "\n",
        "    # manually define a new patch\n",
        "    patch_label = matplotlib.patches.Patch(color=joint_line_colour, label=kwargs.get(\"label\", \"\"))\n",
        "\n",
        "    handles, labels = ax.get_legend_handles_labels()\n",
        "\n",
        "    # remove\n",
        "    handles = handles[len(skeleton_connections.connect)*2:]\n",
        "    handles.append(patch_label)\n",
        "\n",
        "    # plot the legend\n",
        "    fig.legend(handles=handles, loc=kwargs.get(\"loc\", \"upper center\"))\n",
        "\n",
        "    return fig, ax\n",
        "\n",
        "fig, ax = plot_skeleton(truth, joint_line_colour=\"g\", joint_colour=\"#42f590\", label=\"Ground Truth\", loc=\"upper left\")\n",
        "fig, ax = plot_skeleton(pred, fig=fig, ax=ax, joint_line_colour=\"r\", joint_colour=\"orange\", label=\"Prediction\", loc=\"upper right\")"
      ],
      "metadata": {
        "id": "I-m9gIIzMs3Y",
        "ExecuteTime": {
          "end_time": "2023-10-28T16:52:09.275327700Z",
          "start_time": "2023-10-28T16:52:01.955599100Z"
        }
      },
      "execution_count": null,
      "outputs": []
    },
    {
      "cell_type": "markdown",
      "metadata": {
        "id": "Mfh69SDiBXrh"
      },
      "source": [
        "## Report and Parameter Fine-Tuning Analysis  (**4 Points**)"
      ]
    },
    {
      "cell_type": "markdown",
      "metadata": {
        "id": "kOcLSDxkBXrh"
      },
      "source": [
        "**Objective:** In this exercise, you will analyze the results obtained from a deep learning model you previously trained and perform parameter fine-tuning to optimize its performance. The key considerations are learning rate, milestones, and weight decay. **You will also use tables and plots to visualize and interpret the outcomes.**\n",
        "\n",
        "**Instructions:**\n",
        "\n",
        "1. **Analysis:** Analyze the generated report and answer the following questions:\n",
        "   - Is there evidence of overfitting or underfitting in the initial training results?\n",
        "   - Are there fluctuations in training and validation loss or accuracy? If so, what might be causing them?\n",
        "   - What can you infer from the initial learning rate, milestones, and weight decay settings?\n",
        "\n",
        "2. **Parameter Fine-Tuning:** Based on your analysis, perform parameter fine-tuning to optimize model performance. Adjust the following parameters:\n",
        "   - **Learning Rate:** Experiment with different learning rates (higher and lower values) to find an optimal rate.\n",
        "   - **Milestones:** Modify the milestone values for adjusting the learning rate schedule.\n",
        "   - **Weight Decay:** Explore different weight decay values.\n",
        "   \n",
        "\n",
        "3. **Re-Training:** Train the model with the adjusted hyperparameters. Record the training progress and generate a new report, including performance metrics and line plots as before.\n",
        "\n",
        "4. **Final Analysis:** Analyze the results of the fine-tuned model and compare them with the initial training. Answer the following questions:\n",
        "   - Has parameter fine-tuning improved model performance?\n",
        "   - Did it mitigate overfitting or underfitting issues?\n",
        "   - What can you conclude about the optimal hyperparameters for this task?\n"
      ]
    },
    {
      "cell_type": "code",
      "source": [
        "#2 parameter fine tuning\n",
        "\n",
        "# learning rates we want to try, from 10^-3 to 10^1, the given default is in the middle\n",
        "learning_rates = np.logspace(-3, 1, 5)\n",
        "\n",
        "# epochs after which to lower the learning rate, go from infrequent lowering to frequent lowering\n",
        "milestones = [[10], [30], [10, 30], [milestone for milestone in range(5, n_epochs, 5)], [milestone for milestone in range(2, n_epochs, 2)]]\n",
        "\n",
        "# weight decays, from low to high in factors of 10 with the default in the middle\n",
        "weight_decays = np.logspace(-7, -3, 5)\n",
        "\n",
        "# TODO run the training loop and get results\n",
        "# TODO plot the results"
      ],
      "metadata": {
        "id": "-XNvIO3_Om0_"
      },
      "execution_count": null,
      "outputs": []
    },
    {
      "cell_type": "markdown",
      "metadata": {
        "id": "hi3ybeUnBXrh"
      },
      "source": [
        "## Calculating MPJPE for a Specific Frame  (**2 Points**)"
      ]
    },
    {
      "cell_type": "markdown",
      "metadata": {
        "id": "QscgEyYVBXrh"
      },
      "source": [
        "\n",
        "In this exercise, you will calculate the Mean Per Joint Position Error (MPJPE) for a specific frame. This skill is valuable for assessing the accuracy of your model's predictions at a particular moment.\n",
        "\n",
        "\\begin{align*}\n",
        "\\text{MPJPE}_t = \\frac{1}{N} \\sum_{j=1}^{J} \\left\\| P_{\\text{predicted}_{t,j}} - P_{\\text{gt}_{t,j}} \\right\\|\n",
        "\\end{align*}\n",
        "\n",
        "Fixed the frame $t$, you will calculate the MPJPE for the predicted pose and the ground truth. Steps:\n",
        "\n",
        "- Write a function that takes in input the predicted pose and the ground truth one and returns the MPJPE for a number of frames $t$. (e.g. the output could be a dictionary with the frame number as key and the MPJPE as value)\n",
        "- Rewrite the test function to use the function you just wrote.\n",
        "- Run the newly created test function for $t=[5, 10, 15, 25]$ and report the results in a table and plot.\n",
        "\n",
        "\n",
        "\n"
      ]
    },
    {
      "cell_type": "code",
      "execution_count": null,
      "metadata": {
        "id": "mYQK7SB2BXri"
      },
      "outputs": [],
      "source": [
        "def mpjpe_per_frame(sequences_predict, sequences_gt, frames_to_consider):\n",
        "    \"\"\"For a specific sequence, calculates the Mean Per Joint Position Error (MPJPE).\n",
        "\n",
        "    The MPJPE assesses the prediction at particular moment in time. It is the average euclidean distance between\n",
        "    the predicted and true joint position, over all predicted joints.\n",
        "\n",
        "    :arg\n",
        "      sequences_predict (torch.Tensor): the predicted joint positions. Has shape (batch, frame, joint * 3).\n",
        "      sequences_gt (torch.Tensor): the ground truth joint positions. Has shape (batch, frame, joint * 3).\n",
        "      frames_to_consider (Iterable): an iterable of integers for the frames to calculate the MPJPE for.\n",
        "    :return\n",
        "      (dict) a dictionary where keys are frame numbers and values are MPJPE scores.\n",
        "\n",
        "    \"\"\"\n",
        "    # joints to consider\n",
        "    dim_used = np.array([6, 7, 8, 9, 10, 11, 12, 13, 14, 15, 16, 17, 21, 22, 23, 24, 25,\n",
        "                      26, 27, 28, 29, 30, 31, 32, 36, 37, 38, 39, 40, 41, 42, 43, 44, 45,\n",
        "                      46, 47, 51, 52, 53, 54, 55, 56, 57, 58, 59, 63, 64, 65, 66, 67, 68,\n",
        "                      75, 76, 77, 78, 79, 80, 81, 82, 83, 87, 88, 89, 90, 91, 92])\n",
        "\n",
        "    # Extract from the ground truth the joints in order to compute the loss\n",
        "    sequences_gt = sequences_gt[:,:,dim_used]\n",
        "    # Reshape to  (batch, frame , joint , xyz coordinates of the joint) for both the predictions and the ground truth\n",
        "    sequences_gt = sequences_gt.view(sequences_gt.shape[0],sequences_gt.shape[1],-1,3)\n",
        "    sequences_predict = sequences_predict.view(sequences_predict.shape[0],sequences_predict.shape[1],-1,3)\n",
        "    # Compute the mean error per joint\n",
        "    mpjpe = torch.mean(torch.norm(sequences_predict - sequences_gt, 2 ,dim = -1), axis = -1)\n",
        "    # Sum all the batch mpjpe errors\n",
        "    mpjpe = {i : torch.sum(mpjpe[:,:i], axis = 0) for i in frames_to_consider}\n",
        "\n",
        "\n",
        "    return mpjpe"
      ]
    },
    {
      "cell_type": "code",
      "execution_count": null,
      "metadata": {
        "id": "w0arCQrDBXri",
        "ExecuteTime": {
          "end_time": "2023-10-28T16:57:49.250978800Z",
          "start_time": "2023-10-28T16:57:49.204104300Z"
        }
      },
      "outputs": [],
      "source": [
        "def test_per_frame(ckpt_path=None):\n",
        "    model.load_state_dict(torch.load(ckpt_path))\n",
        "    print('model loaded')\n",
        "    model.eval()\n",
        "    accum_loss=0\n",
        "    n_batches=0 # number of batches for all the sequences\n",
        "    actions=define_actions(actions_to_consider_test)\n",
        "    dim_used = np.array([6, 7, 8, 9, 10, 11, 12, 13, 14, 15, 16, 17, 21, 22, 23, 24, 25,\n",
        "                      26, 27, 28, 29, 30, 31, 32, 36, 37, 38, 39, 40, 41, 42, 43, 44, 45,\n",
        "                      46, 47, 51, 52, 53, 54, 55, 56, 57, 58, 59, 63, 64, 65, 66, 67, 68,\n",
        "                      75, 76, 77, 78, 79, 80, 81, 82, 83, 87, 88, 89, 90, 91, 92])\n",
        "    # joints at same loc\n",
        "    joint_to_ignore = np.array([16, 20, 23, 24, 28, 31])\n",
        "    index_to_ignore = np.concatenate((joint_to_ignore * 3, joint_to_ignore * 3 + 1, joint_to_ignore * 3 + 2))\n",
        "    joint_equal = np.array([13, 19, 22, 13, 27, 30])\n",
        "    index_to_equal = np.concatenate((joint_equal * 3, joint_equal * 3 + 1, joint_equal * 3 + 2))\n",
        "    totalll=0\n",
        "    counter=0\n",
        "    for action in actions:\n",
        "      running_loss=0\n",
        "      n=0\n",
        "      dataset_test = datasets.Datasets(path,input_n,output_n,skip_rate, split=2,actions=[action])\n",
        "      #print('>>> test action for sequences: {:d}'.format(dataset_test.__len__()))\n",
        "\n",
        "      test_loader = DataLoader(dataset_test, batch_size=batch_size_test, shuffle=False, num_workers=0, pin_memory=True)\n",
        "      for cnt,batch in enumerate(test_loader):\n",
        "        with torch.no_grad():\n",
        "\n",
        "          batch=batch.to(device)\n",
        "          batch_dim=batch.shape[0]\n",
        "          n+=batch_dim\n",
        "\n",
        "\n",
        "          all_joints_seq=batch.clone()[:, input_n:input_n+output_n,:]\n",
        "\n",
        "          sequences_train=batch[:, 0:input_n, dim_used].view(-1,input_n,len(dim_used)//3,3).permute(0,3,1,2)\n",
        "          sequences_gt=batch[:, input_n:input_n+output_n, :]\n",
        "\n",
        "\n",
        "          running_time = time.time()\n",
        "          sequences_predict=model(sequences_train).view(-1, output_n, joints_to_consider, 3)\n",
        "          #sequences_predict = model(sequences_train)\n",
        "          totalll += time.time()-running_time\n",
        "          counter += 1\n",
        "          sequences_predict=sequences_predict.contiguous().view(-1,output_n,len(dim_used))\n",
        "\n",
        "          all_joints_seq[:,:,dim_used] = sequences_predict\n",
        "\n",
        "\n",
        "          all_joints_seq[:,:,index_to_ignore] = all_joints_seq[:,:,index_to_equal]\n",
        "\n",
        "          '''\n",
        "          Insert your code below.\n",
        "          The function mpjpe_per_frame should return the loss for each frame in the sequence. (e.g. a dictionary with keys the frames and values the loss for each frame)\n",
        "          Keep a tab of the running loss for each frame and the number of frames in the sequence.\n",
        "          '''\n",
        "\n",
        "          frames_to_consider = [5, 10, 15, 25]\n",
        "\n",
        "          dict_loss = mpjpe_per_frame(sequences_predict, sequences_gt, frames_to_consider)\n",
        "          # Preset the runninf loss if not computed yet as the dict_loss (means that we are considering the first batch)\n",
        "          if running_loss == 0:\n",
        "              running_loss = dict_loss\n",
        "          else:\n",
        "            # Update the running losses\n",
        "            running_loss = {i: running_loss[i] + dict_loss[i] for i in frames_to_consider}\n",
        "\n",
        "\n",
        "\n",
        "\n",
        "      '''\n",
        "      Insert your code below.\n",
        "      Average the loss over all the frames in the sequence and print the results.\n",
        "      '''\n",
        "\n",
        "      action_losses = (action , [torch.mean(running_loss[i]/n).tolist() for i in frames_to_consider])\n",
        "      plt.plot(np.arange(1,5), action_losses[1])\n",
        "\n",
        "      plt.title(f\"Loss of {action} vs frame\")\n",
        "      plt.xlabel(\"Number of Frame cosidered\")\n",
        "      plt.ylabel(\"Loss\")\n",
        "      plt.show()\n"
      ]
    },
    {
      "cell_type": "code",
      "execution_count": null,
      "metadata": {
        "id": "U9sky2L9BXrj"
      },
      "outputs": [],
      "source": [
        "'''\n",
        "Insert your code below where you want to load the model and test it.\n",
        "You need to specify the path to the model checkpoint file and call the test function.\n",
        "'''\n",
        "#ckpt_path = \"\"\n",
        "test_per_frame(ckpt_path)"
      ]
    },
    {
      "cell_type": "markdown",
      "metadata": {
        "id": "sVcNnOJMBXrk"
      },
      "source": [
        "## Iterative Mechanism (**3 Points**)"
      ]
    },
    {
      "cell_type": "markdown",
      "metadata": {
        "id": "NSSW3wgYBXrk"
      },
      "source": [
        "In this exercise, you will explore the concept of an iterative mechanism and its adaptability when the model's output length changes. You will start with a model designed to produce 25 output frames but adapt it to generate only 10. The exercise will involve modifying and re-training the model for the new output length. During test time, the model will generate 10 frames and then use them as input to generate the successive 10 frames, and so on, until the desired number of frames is reached. In this case, you are asked to generate 25 frames.\n",
        "\n",
        "The steps are as follows:\n",
        "- Change the model's output length from 25 to 10.\n",
        "- Re-train the model.\n",
        "- Rewrite the test function to generate 25 frames using the iterative mechanism.\n",
        "- Generate a new report and compare the results to the baseline model."
      ]
    },
    {
      "cell_type": "code",
      "execution_count": null,
      "metadata": {
        "id": "Bas-0-OHBXrk"
      },
      "outputs": [],
      "source": [
        "# # Arguments to setup the datasets\n",
        "datas = 'h36m' # dataset name\n",
        "path = './data/h3.6m/h3.6m/dataset'\n",
        "input_n=10 # number of frames to train on (default=10)\n",
        "\n",
        "'''\n",
        "Insert your code below\n",
        "'''\n",
        "output_n= 25 # number of frames to predict on\n",
        "\n",
        "input_dim=3 # dimensions of the input coordinates(default=3)\n",
        "skip_rate=1 # # skip rate of frames\n",
        "joints_to_consider=22\n",
        "\n",
        "#FLAGS FOR THE TRAINING\n",
        "mode='train' #choose either train or test mode\n",
        "\n",
        "batch_size_test=8\n",
        "model_path_iterative= ckpt_path # path to the model checkpoint file\n",
        "\n",
        "actions_to_consider_test='all' # actions to test on.\n",
        "model_name = datas+'_3d_'+str(output_n)+'frames_ckpt' #the model name to save/load\n",
        "\n",
        "#FLAGS FOR THE VISUALIZATION\n",
        "actions_to_consider_viz='all' # actions to visualize\n",
        "visualize_from='test'\n",
        "n_viz=2\n"
      ]
    },
    {
      "cell_type": "code",
      "execution_count": null,
      "metadata": {
        "id": "hMoSKaitBXrl"
      },
      "outputs": [],
      "source": [
        "# Load Data\n",
        "print('Loading Train Dataset...')\n",
        "dataset = datasets.Datasets(path,input_n,output_n,skip_rate, split=0)\n",
        "print('Loading Validation Dataset...')\n",
        "vald_dataset = datasets.Datasets(path,input_n,output_n,skip_rate, split=1)\n",
        "\n",
        "#! Note: Ignore warning:  \"VisibleDeprecationWarning: Creating an ndarray from ragged nested sequences\""
      ]
    },
    {
      "cell_type": "code",
      "execution_count": null,
      "metadata": {
        "id": "aRFyVcL9BXrl"
      },
      "outputs": [],
      "source": [
        "batch_size=256\n",
        "\n",
        "print('>>> Training dataset length: {:d}'.format(dataset.__len__()))\n",
        "data_loader = DataLoader(dataset, batch_size=batch_size, shuffle=True, num_workers=0, pin_memory=True)#\n",
        "\n",
        "print('>>> Validation dataset length: {:d}'.format(vald_dataset.__len__()))\n",
        "vald_loader = DataLoader(vald_dataset, batch_size=batch_size, shuffle=True, num_workers=0, pin_memory=True)"
      ]
    },
    {
      "cell_type": "code",
      "execution_count": null,
      "metadata": {
        "id": "_7OAb9s6BXrl"
      },
      "outputs": [],
      "source": [
        "from models.sttr.sttformer import Model\n",
        "device = torch.device('cuda' if torch.cuda.is_available() else 'cpu')\n",
        "print('Using device: %s'%device)\n",
        "\n",
        "n_heads = 1\n",
        "\n",
        "model = Model(num_joints=joints_to_consider,\n",
        "                 num_frames=input_n, num_frames_out=output_n, num_heads=n_heads,\n",
        "                 num_channels=3, kernel_size=[3,3], use_pes=True).to(device)\n",
        "\n",
        "print('total number of parameters of the network is: '+str(sum(p.numel() for p in model.parameters() if p.requires_grad)))"
      ]
    },
    {
      "cell_type": "code",
      "execution_count": null,
      "metadata": {
        "id": "aYdpdrcmBXrl"
      },
      "outputs": [],
      "source": [
        "# Arguments to setup the optimizer\n",
        "lr=1e-01 # learning rate\n",
        "use_scheduler=True # use MultiStepLR scheduler\n",
        "milestones=[10,30]   # the epochs after which the learning rate is adjusted by gamma\n",
        "gamma=0.1 #gamma correction to the learning rate, after reaching the milestone epochs\n",
        "weight_decay=1e-05 # weight decay (L2 penalty)\n",
        "optimizer=optim.Adam(model.parameters(),lr=lr,weight_decay=weight_decay)\n",
        "\n",
        "if use_scheduler:\n",
        "    scheduler = optim.lr_scheduler.MultiStepLR(optimizer, milestones=milestones, gamma=gamma)\n",
        "\n",
        "clip_grad=None # select max norm to clip gradients\n",
        "# Argument for training\n",
        "n_epochs=41\n",
        "log_step = 200"
      ]
    },
    {
      "cell_type": "markdown",
      "metadata": {
        "id": "W3_T38zzBXrm"
      },
      "source": [
        "### Train and Validation Loop"
      ]
    },
    {
      "cell_type": "code",
      "execution_count": null,
      "metadata": {
        "id": "Ps_FldQMBXrm"
      },
      "outputs": [],
      "source": [
        "save_and_plot = False # save the model and plot the loss. Change to True if you want to save the model and plot the loss"
      ]
    },
    {
      "cell_type": "code",
      "execution_count": null,
      "metadata": {
        "id": "EaiHzL3lBXrm"
      },
      "outputs": [],
      "source": [
        "# launch training with the new output_n\n",
        "train(data_loader,vald_loader, path_to_save_model=model_path_iterative)"
      ]
    },
    {
      "cell_type": "markdown",
      "metadata": {
        "id": "Flw5562hBXrm"
      },
      "source": [
        "### Test Loop"
      ]
    },
    {
      "cell_type": "code",
      "execution_count": null,
      "metadata": {
        "id": "0yi1JCPdBXrm"
      },
      "outputs": [],
      "source": [
        "def test(ckpt_path=None):\n",
        "    model.load_state_dict(torch.load(ckpt_path))\n",
        "    print('model loaded')\n",
        "    model.eval()\n",
        "    accum_loss=0\n",
        "    n_batches=0 # number of batches for all the sequences\n",
        "    actions=define_actions(actions_to_consider_test)\n",
        "    dim_used = np.array([6, 7, 8, 9, 10, 11, 12, 13, 14, 15, 16, 17, 21, 22, 23, 24, 25,\n",
        "                      26, 27, 28, 29, 30, 31, 32, 36, 37, 38, 39, 40, 41, 42, 43, 44, 45,\n",
        "                      46, 47, 51, 52, 53, 54, 55, 56, 57, 58, 59, 63, 64, 65, 66, 67, 68,\n",
        "                      75, 76, 77, 78, 79, 80, 81, 82, 83, 87, 88, 89, 90, 91, 92])\n",
        "    # joints at same loc\n",
        "    joint_to_ignore = np.array([16, 20, 23, 24, 28, 31])\n",
        "    index_to_ignore = np.concatenate((joint_to_ignore * 3, joint_to_ignore * 3 + 1, joint_to_ignore * 3 + 2))\n",
        "    joint_equal = np.array([13, 19, 22, 13, 27, 30])\n",
        "    index_to_equal = np.concatenate((joint_equal * 3, joint_equal * 3 + 1, joint_equal * 3 + 2))\n",
        "    totalll=0\n",
        "    counter=0\n",
        "    for action in actions:\n",
        "      running_loss=0\n",
        "      n=0\n",
        "      dataset_test = datasets.Datasets(path,input_n,output_n,skip_rate, split=2,actions=[action])\n",
        "      #print('>>> test action for sequences: {:d}'.format(dataset_test.__len__()))\n",
        "\n",
        "      test_loader = DataLoader(dataset_test, batch_size=batch_size_test, shuffle=False, num_workers=0, pin_memory=True)\n",
        "      for cnt,batch in enumerate(test_loader):\n",
        "        with torch.no_grad():\n",
        "\n",
        "          batch=batch.to(device)\n",
        "          batch_dim=batch.shape[0]\n",
        "          n+=batch_dim\n",
        "\n",
        "\n",
        "          all_joints_seq=batch.clone()[:, input_n:input_n+output_n,:]\n",
        "\n",
        "          sequences_train=batch[:, 0:input_n, dim_used].view(-1,input_n,len(dim_used)//3,3).permute(0,3,1,2)\n",
        "          sequences_gt=batch[:, input_n:input_n+output_n, :]\n",
        "\n",
        "\n",
        "          running_time = time.time()\n",
        "          sequences_predict=model(sequences_train).view(-1, output_n, joints_to_consider, 3)\n",
        "          #sequences_predict = model(sequences_train)\n",
        "          totalll += time.time()-running_time\n",
        "          counter += 1\n",
        "          '''\n",
        "          Insert your code below. You will need to iteratively predict the next frames and feed it to back to the model until you reach the desired number of frames.\n",
        "          '''\n"
      ]
    },
    {
      "cell_type": "code",
      "execution_count": null,
      "metadata": {
        "id": "nbwZQr2PBXrn"
      },
      "outputs": [],
      "source": [
        "test(ckpt_path=model_path_iterative)"
      ]
    },
    {
      "cell_type": "markdown",
      "metadata": {
        "id": "ceuqVt5HBXrn"
      },
      "source": [
        "## YOUR custom model (**3 Points**)\n",
        " In this exercise, you will implement a Transformer-like network (based on the Theory notebook) for this specific task. You can use the Transformer's Encoder and implement your own Decoder to predict future poses. (e.g. RNN, MLP, CNN, TCN, ...).\n",
        " We won't provide any code for this exercise, but you can use the code provided in the Theory notebook as a starting point.\n",
        " The goal of this exercise is not to beat the previous model but to understand how to implement a Transformer network for this specific task. For this reason, the evaluation will be based on the code you write and the explanation you provide in the report rather than the results.\n",
        "\n",
        "\n",
        "### Performance BONUS (**Up to 2 Points**)\n",
        "- **1 Bonus Point** if the model achieves an A-MPJPE between 80 and 90 millimeters.\n",
        "- **2 Bonus Points** if the model achieves an A-MPJPE between 70 and 80 millimeters.\n"
      ]
    },
    {
      "cell_type": "code",
      "execution_count": null,
      "metadata": {
        "id": "1dxldHMmBXro"
      },
      "outputs": [],
      "source": [
        "'''\n",
        "Input Shape: [batch_size, input_time, joints, 3]\n",
        "\n",
        "Encoder:\n",
        "Input shape: [batch_size, input_time, joints, 3]\n",
        "Output shape: [batch_size, input_time/output_time, joints, FREE]\n",
        "\n",
        "# Decoder:\n",
        "Input shape: [batch_size, input_time/output_time, joints, FREE]\n",
        "Output shape: [batch_size, output_time, joints, 3]\n",
        "\n",
        "\n",
        "Hint: Transformers often take an input of shape [batch_size, time, joints*channels], use the reshape or view function to match the dimensionality.\n",
        "'''"
      ]
    }
  ],
  "metadata": {
    "accelerator": "GPU",
    "colab": {
      "provenance": [],
      "gpuType": "T4",
      "include_colab_link": true
    },
    "kernelspec": {
      "name": "python3",
      "language": "python",
      "display_name": "Python 3 (ipykernel)"
    },
    "language_info": {
      "codemirror_mode": {
        "name": "ipython",
        "version": 3
      },
      "file_extension": ".py",
      "mimetype": "text/x-python",
      "name": "python",
      "nbconvert_exporter": "python",
      "pygments_lexer": "ipython3",
      "version": "3.8.5"
    },
    "vscode": {
      "interpreter": {
        "hash": "ad2bdc8ecc057115af97d19610ffacc2b4e99fae6737bb82f5d7fb13d2f2c186"
      }
    }
  },
  "nbformat": 4,
  "nbformat_minor": 0
}